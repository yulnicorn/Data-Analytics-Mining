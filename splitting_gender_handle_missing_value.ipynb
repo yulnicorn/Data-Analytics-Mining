{
 "cells": [
  {
   "cell_type": "code",
   "execution_count": 1,
   "metadata": {},
   "outputs": [],
   "source": [
    "# Import relavant libraries\n",
    "import numpy as np\n",
    "import pandas as pd\n",
    "from sklearn.impute import SimpleImputer"
   ]
  },
  {
   "cell_type": "markdown",
   "metadata": {},
   "source": [
    "# Import csv files"
   ]
  },
  {
   "cell_type": "code",
   "execution_count": null,
   "metadata": {},
   "outputs": [],
   "source": [
    "df = pd.read_csv('train_new.csv')\n",
    "df2 = df.copy()"
   ]
  },
  {
   "cell_type": "markdown",
   "metadata": {},
   "source": [
    "# Splitting gender into male and female"
   ]
  },
  {
   "cell_type": "code",
   "execution_count": null,
   "metadata": {},
   "outputs": [],
   "source": [
    "df = df.drop(df[df.gender > 0].index)\n",
    "df2 = df.drop(df[df.gender < 1].index)"
   ]
  },
  {
   "cell_type": "code",
   "execution_count": null,
   "metadata": {},
   "outputs": [],
   "source": [
    "df.to_csv('female.csv')\n",
    "df2.to_csv('male.csv')"
   ]
  },
  {
   "cell_type": "markdown",
   "metadata": {},
   "source": [
    "# Dropping rows with empty values"
   ]
  },
  {
   "cell_type": "code",
   "execution_count": null,
   "metadata": {},
   "outputs": [],
   "source": [
    "df = pd.read_csv('female.csv')\n",
    "df = df.dropna()\n",
    "df.to_csv('female(non_impute).csv')\n",
    "\n",
    "df2 = pd.read_csv('male.csv')\n",
    "df2 = df2.dropna()\n",
    "df2.to_csv('male(non_impute).csv')"
   ]
  },
  {
   "cell_type": "markdown",
   "metadata": {},
   "source": [
    "# Imputing colums with missing values"
   ]
  },
  {
   "cell_type": "code",
   "execution_count": null,
   "metadata": {},
   "outputs": [],
   "source": [
    "df = pd.read_csv('female.csv')\n",
    "fill_NaN = SimpleImputer(missing_values=np.nan, strategy='mean')\n",
    "imputed_DF = pd.DataFrame(fill_NaN.fit_transform(df))\n",
    "imputed_DF.columns = df.columns\n",
    "imputed_DF.index = df.index\n",
    "imputed_DF.to_csv('female(imputed).csv')\n",
    "\n",
    "\n",
    "df2 = pd.read_csv('male.csv')\n",
    "fill_NaN = SimpleImputer(missing_values=np.nan, strategy='mean')\n",
    "imputed_DF2 = pd.DataFrame(fill_NaN.fit_transform(df2))\n",
    "imputed_DF2.columns = df2.columns\n",
    "imputed_DF2.index = df2.index\n",
    "imputed_DF2.to_csv('male(imputed).csv')"
   ]
  }
 ],
 "metadata": {
  "kernelspec": {
   "display_name": "Python 3",
   "language": "python",
   "name": "python3"
  },
  "language_info": {
   "codemirror_mode": {
    "name": "ipython",
    "version": 3
   },
   "file_extension": ".py",
   "mimetype": "text/x-python",
   "name": "python",
   "nbconvert_exporter": "python",
   "pygments_lexer": "ipython3",
   "version": "3.7.4"
  }
 },
 "nbformat": 4,
 "nbformat_minor": 2
}
