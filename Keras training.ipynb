{
 "cells": [
  {
   "cell_type": "code",
   "execution_count": 58,
   "metadata": {
    "scrolled": false
   },
   "outputs": [
    {
     "name": "stdout",
     "output_type": "stream",
     "text": [
      "Epoch 1/10\n",
      "8148/8148 [==============================] - 1s 73us/step - loss: 0.6792 - accuracy: 0.5945\n",
      "Epoch 2/10\n",
      "8148/8148 [==============================] - 0s 37us/step - loss: 0.6438 - accuracy: 0.6948\n",
      "Epoch 3/10\n",
      "8148/8148 [==============================] - 0s 37us/step - loss: 0.6117 - accuracy: 0.7423\n",
      "Epoch 4/10\n",
      "8148/8148 [==============================] - 0s 36us/step - loss: 0.5758 - accuracy: 0.7437\n",
      "Epoch 5/10\n",
      "8148/8148 [==============================] - 0s 37us/step - loss: 0.5389 - accuracy: 0.7441\n",
      "Epoch 6/10\n",
      "8148/8148 [==============================] - 0s 41us/step - loss: 0.5049 - accuracy: 0.7441 0s - loss: 0.5137 - accu\n",
      "Epoch 7/10\n",
      "8148/8148 [==============================] - 0s 37us/step - loss: 0.4774 - accuracy: 0.7434\n",
      "Epoch 8/10\n",
      "8148/8148 [==============================] - 0s 35us/step - loss: 0.4567 - accuracy: 0.7421\n",
      "Epoch 9/10\n",
      "8148/8148 [==============================] - 0s 35us/step - loss: 0.4419 - accuracy: 0.7417\n",
      "Epoch 10/10\n",
      "8148/8148 [==============================] - 0s 36us/step - loss: 0.4315 - accuracy: 0.7419\n",
      "8148/8148 [==============================] - 0s 55us/step\n",
      "Accuracy: 74.41\n"
     ]
    }
   ],
   "source": [
    "from keras.models import Sequential\n",
    "from keras.layers import Dense\n",
    "from keras import optimizers\n",
    "import numpy as np\n",
    "\n",
    "# scale data\n",
    "def scale(X, X_min, X_max):\n",
    "    return (X - X_min) / (X_max - X_min)\n",
    "\n",
    "# load the dataset\n",
    "dataset = np.genfromtxt('Extracted_features.csv', delimiter=',')\n",
    "\n",
    "# split into input (X) and output (y) variables\n",
    "X = dataset[1:, 1:7]\n",
    "y_ = dataset[1:, 20].astype(int)\n",
    "X = scale(X, np.min(X, axis=0), np.max(X, axis=0))\n",
    "\n",
    "y = np.zeros((y_.shape[0], 2))\n",
    "y[np.arange(y_.shape[0]), y_ - 1] = 1  # one hot matrix\n",
    "\n",
    "# define the keras model\n",
    "model = Sequential()\n",
    "model.add(Dense(10, input_dim=6, activation='relu'))\n",
    "model.add(Dense(2, activation='softmax'))\n",
    "\n",
    "# compile the keras model\n",
    "sgd = optimizers.SGD(lr=0.001, decay=1e-6, momentum=0.9, nesterov=True)\n",
    "model.compile(loss='binary_crossentropy', optimizer=sgd, metrics=['accuracy'])\n",
    "\n",
    "# fit the keras model on the dataset\n",
    "model.fit(X, y, epochs=10, batch_size=32)\n",
    "\n",
    "# evaluate the keras model\n",
    "_, accuracy = model.evaluate(X, y)\n",
    "print('Accuracy: %.2f' % (accuracy*100))\n",
    "\n",
    "# make class predictions with the model\n",
    "predictions = model.predict_classes(X)\n",
    "\n",
    "# summarize the first 6 cases\n",
    "# X.astype(int)\n",
    "# y.astype(int)\n",
    "# print(X)\n",
    "# print(y)\n",
    "\n",
    "# for i in range(6):\n",
    "#     print('%s => %d (expected %d)' % (X[i].tolist(), predictions[i], y[i]))"
   ]
  },
  {
   "cell_type": "code",
   "execution_count": 59,
   "metadata": {
    "scrolled": true
   },
   "outputs": [
    {
     "data": {
      "text/plain": [
       "array([1, 1, 0, ..., 0, 1, 1])"
      ]
     },
     "execution_count": 59,
     "metadata": {},
     "output_type": "execute_result"
    }
   ],
   "source": [
    "predictions"
   ]
  },
  {
   "cell_type": "code",
   "execution_count": null,
   "metadata": {},
   "outputs": [],
   "source": []
  }
 ],
 "metadata": {
  "kernelspec": {
   "display_name": "Python 3",
   "language": "python",
   "name": "python3"
  },
  "language_info": {
   "codemirror_mode": {
    "name": "ipython",
    "version": 3
   },
   "file_extension": ".py",
   "mimetype": "text/x-python",
   "name": "python",
   "nbconvert_exporter": "python",
   "pygments_lexer": "ipython3",
   "version": "3.7.4"
  }
 },
 "nbformat": 4,
 "nbformat_minor": 2
}
