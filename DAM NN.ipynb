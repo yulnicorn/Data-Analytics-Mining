{
 "cells": [
  {
   "cell_type": "code",
   "execution_count": 2,
   "metadata": {},
   "outputs": [],
   "source": [
    "import pandas as pd\n",
    "import os"
   ]
  },
  {
   "cell_type": "markdown",
   "metadata": {},
   "source": [
    "# Extracting features which we think is useful for the network"
   ]
  },
  {
   "cell_type": "code",
   "execution_count": 4,
   "metadata": {},
   "outputs": [
    {
     "ename": "FileNotFoundError",
     "evalue": "[Errno 2] File b'Speed Dating Data(clean).csv' does not exist: b'Speed Dating Data(clean).csv'",
     "output_type": "error",
     "traceback": [
      "\u001b[1;31m---------------------------------------------------------------------------\u001b[0m",
      "\u001b[1;31mFileNotFoundError\u001b[0m                         Traceback (most recent call last)",
      "\u001b[1;32m<ipython-input-4-500a4838fddc>\u001b[0m in \u001b[0;36m<module>\u001b[1;34m\u001b[0m\n\u001b[1;32m----> 1\u001b[1;33m \u001b[0mdata\u001b[0m \u001b[1;33m=\u001b[0m \u001b[0mpd\u001b[0m\u001b[1;33m.\u001b[0m\u001b[0mread_csv\u001b[0m\u001b[1;33m(\u001b[0m\u001b[1;34m'Speed Dating Data(clean).csv'\u001b[0m\u001b[1;33m,\u001b[0m \u001b[0mdelimiter\u001b[0m\u001b[1;33m=\u001b[0m\u001b[1;34m','\u001b[0m\u001b[1;33m,\u001b[0m \u001b[0mencoding\u001b[0m\u001b[1;33m=\u001b[0m\u001b[1;34m'ISO-8859-1'\u001b[0m\u001b[1;33m)\u001b[0m\u001b[1;33m\u001b[0m\u001b[1;33m\u001b[0m\u001b[0m\n\u001b[0m",
      "\u001b[1;32m~\\Anaconda3\\lib\\site-packages\\pandas\\io\\parsers.py\u001b[0m in \u001b[0;36mparser_f\u001b[1;34m(filepath_or_buffer, sep, delimiter, header, names, index_col, usecols, squeeze, prefix, mangle_dupe_cols, dtype, engine, converters, true_values, false_values, skipinitialspace, skiprows, skipfooter, nrows, na_values, keep_default_na, na_filter, verbose, skip_blank_lines, parse_dates, infer_datetime_format, keep_date_col, date_parser, dayfirst, iterator, chunksize, compression, thousands, decimal, lineterminator, quotechar, quoting, doublequote, escapechar, comment, encoding, dialect, tupleize_cols, error_bad_lines, warn_bad_lines, delim_whitespace, low_memory, memory_map, float_precision)\u001b[0m\n\u001b[0;32m    700\u001b[0m                     skip_blank_lines=skip_blank_lines)\n\u001b[0;32m    701\u001b[0m \u001b[1;33m\u001b[0m\u001b[0m\n\u001b[1;32m--> 702\u001b[1;33m         \u001b[1;32mreturn\u001b[0m \u001b[0m_read\u001b[0m\u001b[1;33m(\u001b[0m\u001b[0mfilepath_or_buffer\u001b[0m\u001b[1;33m,\u001b[0m \u001b[0mkwds\u001b[0m\u001b[1;33m)\u001b[0m\u001b[1;33m\u001b[0m\u001b[1;33m\u001b[0m\u001b[0m\n\u001b[0m\u001b[0;32m    703\u001b[0m \u001b[1;33m\u001b[0m\u001b[0m\n\u001b[0;32m    704\u001b[0m     \u001b[0mparser_f\u001b[0m\u001b[1;33m.\u001b[0m\u001b[0m__name__\u001b[0m \u001b[1;33m=\u001b[0m \u001b[0mname\u001b[0m\u001b[1;33m\u001b[0m\u001b[1;33m\u001b[0m\u001b[0m\n",
      "\u001b[1;32m~\\Anaconda3\\lib\\site-packages\\pandas\\io\\parsers.py\u001b[0m in \u001b[0;36m_read\u001b[1;34m(filepath_or_buffer, kwds)\u001b[0m\n\u001b[0;32m    427\u001b[0m \u001b[1;33m\u001b[0m\u001b[0m\n\u001b[0;32m    428\u001b[0m     \u001b[1;31m# Create the parser.\u001b[0m\u001b[1;33m\u001b[0m\u001b[1;33m\u001b[0m\u001b[1;33m\u001b[0m\u001b[0m\n\u001b[1;32m--> 429\u001b[1;33m     \u001b[0mparser\u001b[0m \u001b[1;33m=\u001b[0m \u001b[0mTextFileReader\u001b[0m\u001b[1;33m(\u001b[0m\u001b[0mfilepath_or_buffer\u001b[0m\u001b[1;33m,\u001b[0m \u001b[1;33m**\u001b[0m\u001b[0mkwds\u001b[0m\u001b[1;33m)\u001b[0m\u001b[1;33m\u001b[0m\u001b[1;33m\u001b[0m\u001b[0m\n\u001b[0m\u001b[0;32m    430\u001b[0m \u001b[1;33m\u001b[0m\u001b[0m\n\u001b[0;32m    431\u001b[0m     \u001b[1;32mif\u001b[0m \u001b[0mchunksize\u001b[0m \u001b[1;32mor\u001b[0m \u001b[0miterator\u001b[0m\u001b[1;33m:\u001b[0m\u001b[1;33m\u001b[0m\u001b[1;33m\u001b[0m\u001b[0m\n",
      "\u001b[1;32m~\\Anaconda3\\lib\\site-packages\\pandas\\io\\parsers.py\u001b[0m in \u001b[0;36m__init__\u001b[1;34m(self, f, engine, **kwds)\u001b[0m\n\u001b[0;32m    893\u001b[0m             \u001b[0mself\u001b[0m\u001b[1;33m.\u001b[0m\u001b[0moptions\u001b[0m\u001b[1;33m[\u001b[0m\u001b[1;34m'has_index_names'\u001b[0m\u001b[1;33m]\u001b[0m \u001b[1;33m=\u001b[0m \u001b[0mkwds\u001b[0m\u001b[1;33m[\u001b[0m\u001b[1;34m'has_index_names'\u001b[0m\u001b[1;33m]\u001b[0m\u001b[1;33m\u001b[0m\u001b[1;33m\u001b[0m\u001b[0m\n\u001b[0;32m    894\u001b[0m \u001b[1;33m\u001b[0m\u001b[0m\n\u001b[1;32m--> 895\u001b[1;33m         \u001b[0mself\u001b[0m\u001b[1;33m.\u001b[0m\u001b[0m_make_engine\u001b[0m\u001b[1;33m(\u001b[0m\u001b[0mself\u001b[0m\u001b[1;33m.\u001b[0m\u001b[0mengine\u001b[0m\u001b[1;33m)\u001b[0m\u001b[1;33m\u001b[0m\u001b[1;33m\u001b[0m\u001b[0m\n\u001b[0m\u001b[0;32m    896\u001b[0m \u001b[1;33m\u001b[0m\u001b[0m\n\u001b[0;32m    897\u001b[0m     \u001b[1;32mdef\u001b[0m \u001b[0mclose\u001b[0m\u001b[1;33m(\u001b[0m\u001b[0mself\u001b[0m\u001b[1;33m)\u001b[0m\u001b[1;33m:\u001b[0m\u001b[1;33m\u001b[0m\u001b[1;33m\u001b[0m\u001b[0m\n",
      "\u001b[1;32m~\\Anaconda3\\lib\\site-packages\\pandas\\io\\parsers.py\u001b[0m in \u001b[0;36m_make_engine\u001b[1;34m(self, engine)\u001b[0m\n\u001b[0;32m   1120\u001b[0m     \u001b[1;32mdef\u001b[0m \u001b[0m_make_engine\u001b[0m\u001b[1;33m(\u001b[0m\u001b[0mself\u001b[0m\u001b[1;33m,\u001b[0m \u001b[0mengine\u001b[0m\u001b[1;33m=\u001b[0m\u001b[1;34m'c'\u001b[0m\u001b[1;33m)\u001b[0m\u001b[1;33m:\u001b[0m\u001b[1;33m\u001b[0m\u001b[1;33m\u001b[0m\u001b[0m\n\u001b[0;32m   1121\u001b[0m         \u001b[1;32mif\u001b[0m \u001b[0mengine\u001b[0m \u001b[1;33m==\u001b[0m \u001b[1;34m'c'\u001b[0m\u001b[1;33m:\u001b[0m\u001b[1;33m\u001b[0m\u001b[1;33m\u001b[0m\u001b[0m\n\u001b[1;32m-> 1122\u001b[1;33m             \u001b[0mself\u001b[0m\u001b[1;33m.\u001b[0m\u001b[0m_engine\u001b[0m \u001b[1;33m=\u001b[0m \u001b[0mCParserWrapper\u001b[0m\u001b[1;33m(\u001b[0m\u001b[0mself\u001b[0m\u001b[1;33m.\u001b[0m\u001b[0mf\u001b[0m\u001b[1;33m,\u001b[0m \u001b[1;33m**\u001b[0m\u001b[0mself\u001b[0m\u001b[1;33m.\u001b[0m\u001b[0moptions\u001b[0m\u001b[1;33m)\u001b[0m\u001b[1;33m\u001b[0m\u001b[1;33m\u001b[0m\u001b[0m\n\u001b[0m\u001b[0;32m   1123\u001b[0m         \u001b[1;32melse\u001b[0m\u001b[1;33m:\u001b[0m\u001b[1;33m\u001b[0m\u001b[1;33m\u001b[0m\u001b[0m\n\u001b[0;32m   1124\u001b[0m             \u001b[1;32mif\u001b[0m \u001b[0mengine\u001b[0m \u001b[1;33m==\u001b[0m \u001b[1;34m'python'\u001b[0m\u001b[1;33m:\u001b[0m\u001b[1;33m\u001b[0m\u001b[1;33m\u001b[0m\u001b[0m\n",
      "\u001b[1;32m~\\Anaconda3\\lib\\site-packages\\pandas\\io\\parsers.py\u001b[0m in \u001b[0;36m__init__\u001b[1;34m(self, src, **kwds)\u001b[0m\n\u001b[0;32m   1851\u001b[0m         \u001b[0mkwds\u001b[0m\u001b[1;33m[\u001b[0m\u001b[1;34m'usecols'\u001b[0m\u001b[1;33m]\u001b[0m \u001b[1;33m=\u001b[0m \u001b[0mself\u001b[0m\u001b[1;33m.\u001b[0m\u001b[0musecols\u001b[0m\u001b[1;33m\u001b[0m\u001b[1;33m\u001b[0m\u001b[0m\n\u001b[0;32m   1852\u001b[0m \u001b[1;33m\u001b[0m\u001b[0m\n\u001b[1;32m-> 1853\u001b[1;33m         \u001b[0mself\u001b[0m\u001b[1;33m.\u001b[0m\u001b[0m_reader\u001b[0m \u001b[1;33m=\u001b[0m \u001b[0mparsers\u001b[0m\u001b[1;33m.\u001b[0m\u001b[0mTextReader\u001b[0m\u001b[1;33m(\u001b[0m\u001b[0msrc\u001b[0m\u001b[1;33m,\u001b[0m \u001b[1;33m**\u001b[0m\u001b[0mkwds\u001b[0m\u001b[1;33m)\u001b[0m\u001b[1;33m\u001b[0m\u001b[1;33m\u001b[0m\u001b[0m\n\u001b[0m\u001b[0;32m   1854\u001b[0m         \u001b[0mself\u001b[0m\u001b[1;33m.\u001b[0m\u001b[0munnamed_cols\u001b[0m \u001b[1;33m=\u001b[0m \u001b[0mself\u001b[0m\u001b[1;33m.\u001b[0m\u001b[0m_reader\u001b[0m\u001b[1;33m.\u001b[0m\u001b[0munnamed_cols\u001b[0m\u001b[1;33m\u001b[0m\u001b[1;33m\u001b[0m\u001b[0m\n\u001b[0;32m   1855\u001b[0m \u001b[1;33m\u001b[0m\u001b[0m\n",
      "\u001b[1;32mpandas/_libs/parsers.pyx\u001b[0m in \u001b[0;36mpandas._libs.parsers.TextReader.__cinit__\u001b[1;34m()\u001b[0m\n",
      "\u001b[1;32mpandas/_libs/parsers.pyx\u001b[0m in \u001b[0;36mpandas._libs.parsers.TextReader._setup_parser_source\u001b[1;34m()\u001b[0m\n",
      "\u001b[1;31mFileNotFoundError\u001b[0m: [Errno 2] File b'Speed Dating Data(clean).csv' does not exist: b'Speed Dating Data(clean).csv'"
     ]
    }
   ],
   "source": [
    "# data = pd.read_csv('Speed Dating Data(clean).csv', delimiter=',', encoding='ISO-8859-1')\n",
    "data = pd.read_csv('Speed Dating Data(clean).csv', delimiter=',', encoding='ISO-8859-1')\n"
   ]
  },
  {
   "cell_type": "code",
   "execution_count": null,
   "metadata": {},
   "outputs": [],
   "source": [
    "extracted = data.copy()\n",
    "\n",
    "extracted= data[['gender', 'match', 'samerace', 'age_o', 'dec_o', 'field_cd', 'like_o', 'shar_o', 'sinc_o', 'race_o', 'intel_o', 'attr_o', 'amb_o', 'fun_o', 'age', 'race', 'imprace', 'imprelig', 'exphappy', 'career_c', 'dec']]\n",
    "extracted.to_csv('Extracted_features.csv')\n",
    "data.to_csv('Extracted_features(1).csv')\n"
   ]
  },
  {
   "cell_type": "code",
   "execution_count": null,
   "metadata": {},
   "outputs": [],
   "source": [
    "extracted"
   ]
  },
  {
   "cell_type": "markdown",
   "metadata": {},
   "source": [
    "# Creating the network and training the dataset"
   ]
  },
  {
   "cell_type": "code",
   "execution_count": 28,
   "metadata": {},
   "outputs": [
    {
     "name": "stdout",
     "output_type": "stream",
     "text": [
      "2683\n",
      "[   0    1    2 ... 2680 2681 2682]\n",
      "iter 0: train error 0.687502\n",
      "iter 0: test error 0.686727\n",
      "iter 0: training accuracy 0.544167\n",
      "iter 0: test accuracy 0.553043 \n",
      "\n",
      "iter 100: train error 0.601435\n",
      "iter 100: test error 0.612711\n",
      "iter 100: training accuracy 0.667909\n",
      "iter 100: test accuracy 0.653043 \n",
      "\n",
      "iter 200: train error 0.543863\n",
      "iter 200: test error 0.560942\n",
      "iter 200: training accuracy 0.726053\n",
      "iter 200: test accuracy 0.704348 \n",
      "\n",
      "iter 300: train error 0.512778\n",
      "iter 300: test error 0.532323\n",
      "iter 300: training accuracy 0.742825\n",
      "iter 300: test accuracy 0.72087 \n",
      "\n",
      "iter 400: train error 0.497525\n",
      "iter 400: test error 0.517619\n",
      "iter 400: training accuracy 0.749534\n",
      "iter 400: test accuracy 0.734783 \n",
      "\n",
      "iter 500: train error 0.488568\n",
      "iter 500: test error 0.508766\n",
      "iter 500: training accuracy 0.756616\n",
      "iter 500: test accuracy 0.73913 \n",
      "\n",
      "iter 600: train error 0.482703\n",
      "iter 600: test error 0.50296\n",
      "iter 600: training accuracy 0.759597\n",
      "iter 600: test accuracy 0.743478 \n",
      "\n",
      "iter 700: train error 0.478547\n",
      "iter 700: test error 0.498992\n",
      "iter 700: training accuracy 0.760716\n",
      "iter 700: test accuracy 0.745217 \n",
      "\n",
      "iter 800: train error 0.475566\n",
      "iter 800: test error 0.496214\n",
      "iter 800: training accuracy 0.764443\n",
      "iter 800: test accuracy 0.744348 \n",
      "\n",
      "iter 900: train error 0.473508\n",
      "iter 900: test error 0.494452\n",
      "iter 900: training accuracy 0.766679\n",
      "iter 900: test accuracy 0.744348 \n",
      "\n"
     ]
    },
    {
     "data": {
      "image/png": "[encoded data removed]",
      "text/plain": [
       "<Figure size 432x288 with 1 Axes>"
      ]
     },
     "metadata": {
      "needs_background": "light"
     },
     "output_type": "display_data"
    },
    {
     "data": {
      "image/png": "[encoded data removed]",
      "text/plain": [
       "<Figure size 432x288 with 1 Axes>"
      ]
     },
     "metadata": {
      "needs_background": "light"
     },
     "output_type": "display_data"
    }
   ],
   "source": [
    "import tensorflow as tf\n",
    "import numpy as np\n",
    "import math\n",
    "import os\n",
    "import pylab as plt\n",
    "import impyute.imputation.cs.em as em\n",
    "from sklearn.model_selection import train_test_split\n",
    "from sklearn.metrics import confusion_matrix\n",
    "\n",
    "%matplotlib inline\n",
    "\n",
    "if not os.path.isdir('figures'):\n",
    "    print('creating the figures folder')\n",
    "    os.makedirs('figures')\n",
    "    \n",
    "tf.compat.v1.logging.set_verbosity(tf.compat.v1.logging.ERROR)\n",
    "\n",
    "# scale data\n",
    "def scale(X, X_min, X_max):\n",
    "    return (X - X_min) / (X_max - X_min)\n",
    "\n",
    "NUM_FEATURES = 23\n",
    "NUM_CLASSES = 2\n",
    "\n",
    "learning_rate = 0.001\n",
    "epochs = 1000\n",
    "batch_size = 32\n",
    "num_neurons = 20\n",
    "SEED = 10\n",
    "\n",
    "filling_values = 0\n",
    "\n",
    "np.random.seed(SEED)\n",
    "\n",
    "\n",
    "def fnn(x, hidden_units):\n",
    "    # Hidden 1\n",
    "    h_weights = tf.Variable(\n",
    "        tf.random.truncated_normal([NUM_FEATURES, hidden_units], stddev=1.0 / math.sqrt(float(NUM_FEATURES))),\n",
    "        name='weights')\n",
    "    h_biases = tf.Variable(tf.zeros([hidden_units]), name='biases')\n",
    "\n",
    "    h = tf.nn.relu(tf.matmul(x, h_weights) + h_biases)\n",
    "\n",
    "    # Output layer\n",
    "    weights = tf.Variable(\n",
    "        tf.random.truncated_normal([hidden_units, NUM_CLASSES], stddev=1.0 / math.sqrt(float(NUM_FEATURES))),\n",
    "        name='weights')\n",
    "    biases = tf.Variable(tf.zeros([NUM_CLASSES]), name='biases')\n",
    "    logits = tf.matmul(h, weights) + biases\n",
    "\n",
    "    return logits, h_weights, weights\n",
    "\n",
    "\n",
    "def main():\n",
    "    # read train data\n",
    "    train_input = np.genfromtxt('male(final).csv', delimiter=',')\n",
    "    trainX, train_Y = train_input[1:, 1:24], train_input[1:, -1].astype(int)\n",
    "    \n",
    "    # handle missing values in trainX and then scale it\n",
    "#     trainX = em(trainX_, loops=50)\n",
    "    trainX = scale(trainX, np.min(trainX, axis=0), np.max(trainX, axis=0))\n",
    "    \n",
    "    trainY = np.zeros((train_Y.shape[0], NUM_CLASSES))\n",
    "    trainY[np.arange(train_Y.shape[0]), train_Y - 1] = 1  # one hot matrix\n",
    "    trainX, testX, trainY, testY = train_test_split(trainX, trainY, test_size=0.3, shuffle=True)\n",
    "    \n",
    "    n = trainX.shape[0]\n",
    "    print(n)\n",
    "\n",
    "    # Create the model\n",
    "    x = tf.placeholder(tf.float32, [None, NUM_FEATURES])\n",
    "    y_ = tf.placeholder(tf.float32, [None, NUM_CLASSES])\n",
    "\n",
    "    logits, h_weights, weights = fnn(x, num_neurons)\n",
    "\n",
    "    # Build the graph for the deep net\n",
    "    y = tf.nn.softmax(logits=logits)\n",
    "    cross_entropy = tf.nn.softmax_cross_entropy_with_logits_v2(labels=y_, logits=logits)\n",
    "    beta = tf.constant(1e-9)\n",
    "    L2_regularization = tf.nn.l2_loss(h_weights) + tf.nn.l2_loss(weights)\n",
    "    loss = tf.reduce_mean(cross_entropy + beta * L2_regularization)\n",
    "\n",
    "    # Create the gradient descent optimizer with the given learning rate.\n",
    "    optimizer = tf.train.GradientDescentOptimizer(learning_rate)\n",
    "    train_op = optimizer.minimize(loss)\n",
    "\n",
    "    correct_prediction = tf.cast(tf.equal(tf.argmax(logits, 1), tf.argmax(y_, 1)), tf.float32)\n",
    "    accuracy = tf.reduce_mean(correct_prediction)\n",
    "    \n",
    "    # Training the network\n",
    "    N = len(trainX)\n",
    "    idx = np.arange(N)\n",
    "    print(idx)\n",
    "    converged = False\n",
    "    \n",
    "    with tf.Session() as sess:\n",
    "        sess.run(tf.global_variables_initializer())\n",
    "        train_acc = []\n",
    "        test_acc = []\n",
    "        train_err = []\n",
    "        test_err = []\n",
    "\n",
    "        for i in range(epochs):\n",
    "            np.random.shuffle(idx)\n",
    "            trainX = trainX[idx]\n",
    "            trainY = trainY[idx]\n",
    "\n",
    "            for start, end in zip(range(0, N, batch_size), range(batch_size, N, batch_size)):\n",
    "                train_op.run(feed_dict={x: trainX[start:end], y_: trainY[start:end]})\n",
    "\n",
    "            \n",
    "            train_err.append(loss.eval(feed_dict={x: trainX, y_: trainY}))\n",
    "            test_err.append(loss.eval(feed_dict={x: testX, y_: testY}))\n",
    "            \n",
    "            train_acc.append(accuracy.eval(feed_dict={x: trainX, y_: trainY}))\n",
    "            test_acc.append(accuracy.eval(feed_dict={x: testX, y_: testY}))\n",
    "\n",
    "            if i % 100 == 0:\n",
    "                print('iter %d: train error %g' % (i, train_err[i]))\n",
    "                print('iter %d: test error %g' % (i, test_err[i]))\n",
    "                print('iter %d: training accuracy %g' % (i, train_acc[i]))\n",
    "                print('iter %d: test accuracy %g' % (i, test_acc[i]), '\\n')\n",
    "            if not converged and i > 100 and test_err[i - 100] - test_err[i] < 0.0001:\n",
    "                print(\"converged at iteration \", i)\n",
    "                converged = True\n",
    "         \n",
    "        pred = sess.run(y, feed_dict={x:testX})\n",
    "#         print('predicted', pred, 'actual', testY)\n",
    "        \n",
    "    # plot learning curves\n",
    "    plt.figure(1)\n",
    "    plt.plot(range(epochs), train_acc)\n",
    "    plt.plot(range(epochs), test_acc)\n",
    "    plt.legend([\"train acc\", \"test acc\"], loc='lower right')\n",
    "    plt.xlabel(str(epochs) + ' iterations')\n",
    "    plt.ylabel('Accuracy')\n",
    "    plt.title('Accuracy')\n",
    "    plt.savefig('./figures/Training_Acc(female imputed).png')\n",
    "\n",
    "    plt.figure(2)\n",
    "    plt.plot(range(epochs), train_err)\n",
    "    plt.plot(range(epochs), test_err)\n",
    "    plt.legend([\"train loss\", \"test loss\"], loc='upper right')\n",
    "    plt.xlabel(str(epochs) + ' iterations')\n",
    "    plt.ylabel('Error')\n",
    "    plt.title('Loss')\n",
    "    plt.savefig('./figures/Testing_Acc(female inputed).png')\n",
    "\n",
    "    plt.show()\n",
    "    \n",
    "    return pred, testY, testX\n",
    "\n",
    "if __name__ == '__main__':\n",
    "    pred, testY, testX = main()"
   ]
  },
  {
   "cell_type": "code",
   "execution_count": 30,
   "metadata": {},
   "outputs": [
    {
     "data": {
      "text/plain": [
       "Index(['gender', 'samerace', 'age_o', 'race_o', 'pf_o_att', 'pf_o_sin',\n",
       "       'pf_o_int', 'pf_o_fun', 'pf_o_amb', 'pf_o_sha', 'attr_o', 'shar_o',\n",
       "       'amb_o', 'fun_o', 'intel_o', 'like_o', 'prob_o', 'met_o', 'age',\n",
       "       'field_cd', 'race', 'imprace', 'career_c', 'income', 'dec_o'],\n",
       "      dtype='object')"
      ]
     },
     "execution_count": 30,
     "metadata": {},
     "output_type": "execute_result"
    }
   ],
   "source": [
    "import pandas as pd\n",
    "\n",
    "df = pd.read_csv('male(final).csv')\n",
    "df.columns"
   ]
  },
  {
   "cell_type": "code",
   "execution_count": 35,
   "metadata": {},
   "outputs": [
    {
     "data": {
      "text/plain": [
       "24"
      ]
     },
     "execution_count": 35,
     "metadata": {},
     "output_type": "execute_result"
    }
   ],
   "source": [
    "len(testX[0])\n",
    "columns=['gender', 'samerace', 'age_o', 'race_o', 'pf_o_att', 'pf_o_sin',\n",
    "       'pf_o_int', 'pf_o_fun', 'pf_o_amb', 'pf_o_sha', 'attr_o', 'shar_o',\n",
    "       'amb_o', 'fun_o', 'intel_o', 'like_o', 'prob_o', 'met_o', 'age',\n",
    "       'field_cd', 'race', 'imprace', 'career_c', 'income']\n",
    "len(columns)"
   ]
  },
  {
   "cell_type": "code",
   "execution_count": 36,
   "metadata": {},
   "outputs": [],
   "source": [
    "import pandas as pd\n",
    "\n",
    "x = pd.DataFrame(data=testX, columns=['samerace', 'age_o', 'race_o', 'pf_o_att', 'pf_o_sin',\n",
    "       'pf_o_int', 'pf_o_fun', 'pf_o_amb', 'pf_o_sha', 'attr_o', 'shar_o',\n",
    "       'amb_o', 'fun_o', 'intel_o', 'like_o', 'prob_o', 'met_o', 'age',\n",
    "       'field_cd', 'race', 'imprace', 'career_c', 'income'])\n",
    "\n",
    "x_unscale = x.loc[:, \"attr_o\":\"like_o\"].apply(lambda x: x*10)\n",
    "del x['race_o']\n",
    "\n",
    "y_p = pd.DataFrame(data=np.argmax(pred, axis=1).tolist(), columns=['dec_m'])\n",
    "y_a = pd.DataFrame(data=np.argmax(testY, axis=1).tolist(), columns=['dec_a'])"
   ]
  },
  {
   "cell_type": "code",
   "execution_count": 24,
   "metadata": {},
   "outputs": [],
   "source": [
    "df_full = pd.merge(x_unscale, y_p, left_index=True, right_index=True)\n",
    "df_actual = pd.merge(x_unscale, y_a, left_index=True, right_index=True)\n",
    "\n",
    "yes_model = df_full[df_full.dec_m == 1]\n",
    "no_model = df_full[df_full.dec_m == 0]\n",
    "\n",
    "yes_actual = df_actual[df_actual.dec_a == 1]\n",
    "no_actual = df_actual[df_actual.dec_a == 0]\n",
    "\n",
    "yes_model_mean = yes_model.groupby('dec_m').mean().loc[:,\"attr_o\":\"like_o\"]\n",
    "yes_actual_mean = yes_actual.groupby('dec_a').mean().loc[:,\"attr_o\":\"like_o\"]\n",
    "\n",
    "\n",
    "no_model_mean = no_model.groupby('dec_m').mean().loc[:,\"attr_o\":\"like_o\"]\n",
    "no_actual_mean = no_actual.groupby('dec_a').mean().loc[:,\"attr_o\":\"like_o\"]"
   ]
  },
  {
   "cell_type": "code",
   "execution_count": 25,
   "metadata": {},
   "outputs": [
    {
     "data": {
      "text/plain": [
       "Index(['like_o', 'shar_o', 'sinc_o', 'intel_o', 'attr_o', 'amb_o', 'fun_o'], dtype='object')"
      ]
     },
     "execution_count": 20,
     "metadata": {},
     "output_type": "execute_result"
    }
   ],
   "source": [
    "x_unscale.columns"
   ]
  },
  {
   "cell_type": "code",
   "execution_count": 21,
   "metadata": {},
   "outputs": [],
   "source": [
    "x_unscale_array = x_unscale.values"
   ]
  },
  {
   "cell_type": "code",
   "execution_count": 37,
   "metadata": {},
   "outputs": [
    {
     "data": {
      "image/png": "[encoded data removed]",
      "text/plain": [
       "<Figure size 792x432 with 1 Axes>"
      ]
     },
     "metadata": {
      "needs_background": "light"
     },
     "output_type": "display_data"
    }
   ],
   "source": [
    "l = ['attr_o', 'shar_o',\n",
    "       'amb_o', 'fun_o', 'intel_o', 'like_o']\n",
    "\n",
    "\n",
    "fig, ax = plt.subplots(figsize=(11,6))\n",
    "\n",
    "ax.bar(l, yes_actual_mean.values[0], color='orange', label='Actual')\n",
    "ax.bar(l, yes_model_mean.values[0], color='lightblue', width=0.35, label='Predicted')\n",
    "ax.legend()\n",
    "diff = [yes_actual_mean.values[0][i]-yes_model_mean.values[0][i] for i in range(len(yes_actual_mean.values[0]))]\n",
    "\n",
    "i =0\n",
    "\n",
    "for x1,y1 in enumerate(yes_actual_mean.values[0]):\n",
    "#     ax.text(x1-0.2,y1+0.1, \"+%.2f\"%diff[i], color= \"black\")\n",
    "    ax.text(x1-0.2,y1+0.1, \"%.2f\"%y1, color= \"black\")\n",
    "    i+=1\n",
    "    \n",
    "plt.title(\"Decision made by partner for second date - Yes\")    \n",
    "plt.show()"
   ]
  },
  {
   "cell_type": "code",
   "execution_count": 39,
   "metadata": {},
   "outputs": [
    {
     "data": {
      "text/plain": [
       "<Figure size 432x288 with 0 Axes>"
      ]
     },
     "metadata": {},
     "output_type": "display_data"
    },
    {
     "data": {
      "image/png": "[encoded data removed]",
      "text/plain": [
       "<Figure size 792x432 with 1 Axes>"
      ]
     },
     "metadata": {
      "needs_background": "light"
     },
     "output_type": "display_data"
    }
   ],
   "source": [
    "l = ['attr_o', 'shar_o',\n",
    "       'amb_o', 'fun_o', 'intel_o', 'like_o']\n",
    "\n",
    "plt.clf()\n",
    "fig, ax = plt.subplots(figsize=(11,6))\n",
    "\n",
    "ax.bar(l, no_actual_mean.values[0], color='orange', label='Actual')\n",
    "ax.bar(l, no_model_mean.values[0], color='lightblue', width=0.35, label='Predicted')\n",
    "ax.legend()\n",
    "diff = [no_actual_mean.values[0][i]-no_model_mean.values[0][i] for i in range(len(no_actual_mean.values[0]))]\n",
    "\n",
    "i =0\n",
    "\n",
    "for x1,y1 in enumerate(no_actual_mean.values[0]):\n",
    "#     ax.text(x1-0.2,y1+0.1, \"%.2f\"%diff[i], color= \"black\")\n",
    "    ax.text(x1-0.2,y1+0.1, \"%.2f\"%y1, color= \"black\")\n",
    "    i+=1\n",
    "    \n",
    "plt.title(\"Decision made by partner for second date - No\")    \n",
    "plt.show()"
   ]
  },
  {
   "cell_type": "markdown",
   "metadata": {},
   "source": [
    "# Confusion matrix for our network"
   ]
  },
  {
   "cell_type": "code",
   "execution_count": 40,
   "metadata": {},
   "outputs": [],
   "source": [
    "from sklearn.metrics import confusion_matrix\n",
    "\n",
    "\n",
    "def plot_confusion_matrix(y_true, y_pred, classes, normalize=False, title=None, cmap=plt.cm.Blues):\n",
    "    \n",
    "    if not title:\n",
    "        if normalize:\n",
    "            title = 'Normalized confusion matrix'\n",
    "        else:\n",
    "            title = 'Confusion matrix, without normalization'\n",
    "\n",
    "    # Compute confusion matrix\n",
    "    cm = confusion_matrix(actual, predict_class)\n",
    "\n",
    "    if normalize:\n",
    "        cm = cm.astype('float') / cm.sum(axis=1)[:, np.newaxis]\n",
    "        print(\"Normalized confusion matrix\")\n",
    "    else:\n",
    "        print('Confusion matrix, without normalization')\n",
    "\n",
    "    print(cm)\n",
    "\n",
    "    fig, ax = plt.subplots()\n",
    "    im = ax.imshow(cm, interpolation='nearest', cmap=cmap)\n",
    "    ax.figure.colorbar(im, ax=ax)\n",
    "    ax.set(xticks=np.arange(cm.shape[1]),\n",
    "           yticks=np.arange(cm.shape[0]),\n",
    "           xticklabels=classes, yticklabels=classes,\n",
    "           title=title,\n",
    "           ylabel='True label',\n",
    "           xlabel='Predicted label')\n",
    "\n",
    "    # Rotate the tick labels and set their alignment.\n",
    "    plt.setp(ax.get_xticklabels(), rotation=45, ha=\"right\",\n",
    "             rotation_mode=\"anchor\")\n",
    "\n",
    "    # Loop over data dimensions and create text annotations.\n",
    "    fmt = '.2f' if normalize else 'd'\n",
    "    thresh = cm.max() / 2.\n",
    "    for i in range(cm.shape[0]):\n",
    "        for j in range(cm.shape[1]):\n",
    "            ax.text(j, (i+0.5)*0.5, format(cm[i, j], fmt),\n",
    "                    ha=\"center\", va=\"center\",\n",
    "                    color=\"white\" if cm[i, j] > thresh else \"black\")\n",
    "    fig.tight_layout()\n",
    "    return ax"
   ]
  },
  {
   "cell_type": "markdown",
   "metadata": {},
   "source": [
    "# Plotting the Confusion Matrix"
   ]
  },
  {
   "cell_type": "code",
   "execution_count": 41,
   "metadata": {},
   "outputs": [
    {
     "name": "stdout",
     "output_type": "stream",
     "text": [
      "Confusion matrix, without normalization\n",
      "[[282 166]\n",
      " [129 573]]\n",
      "Normalized confusion matrix\n",
      "[[0.63 0.37]\n",
      " [0.18 0.82]]\n"
     ]
    },
    {
     "data": {
      "image/png": "[encoded data removed]",
      "text/plain": [
       "<Figure size 432x288 with 2 Axes>"
      ]
     },
     "metadata": {
      "needs_background": "light"
     },
     "output_type": "display_data"
    },
    {
     "data": {
      "image/png": "[encoded data removed]",
      "text/plain": [
       "<Figure size 432x288 with 2 Axes>"
      ]
     },
     "metadata": {
      "needs_background": "light"
     },
     "output_type": "display_data"
    }
   ],
   "source": [
    "# Converting np array to list for confusion matrix\n",
    "predict_class = np.argmax(pred, axis=1).tolist()\n",
    "actual = np.argmax(testY, axis=1).tolist()\n",
    "\n",
    "np.set_printoptions(precision=2)\n",
    "\n",
    "class_names = ['Yes', 'No']\n",
    "\n",
    "# Plot non-normalized confusion matrix\n",
    "plot_confusion_matrix(actual, predict_class, classes=class_names,\n",
    "                      title='Confusion matrix, without normalization')\n",
    "plt.savefig('./figures/non-normalised(female imputed).png')\n",
    "\n",
    "# Plot normalized confusion matrix\n",
    "plot_confusion_matrix(actual, predict_class, classes=class_names, normalize=True,\n",
    "                      title='Normalized confusion matrix')\n",
    "plt.savefig('./figures/normalised(female imputed).png')\n",
    "\n",
    "plt.show()"
   ]
  },
  {
   "cell_type": "markdown",
   "metadata": {},
   "source": [
    "# Handle missing values"
   ]
  },
  {
   "cell_type": "code",
   "execution_count": 31,
   "metadata": {},
   "outputs": [
    {
     "ename": "OSError",
     "evalue": "train_new.csv not found.",
     "output_type": "error",
     "traceback": [
      "\u001b[1;31m---------------------------------------------------------------------------\u001b[0m",
      "\u001b[1;31mOSError\u001b[0m                                   Traceback (most recent call last)",
      "\u001b[1;32m<ipython-input-31-54504253b273>\u001b[0m in \u001b[0;36m<module>\u001b[1;34m\u001b[0m\n\u001b[0;32m      4\u001b[0m \u001b[1;33m\u001b[0m\u001b[0m\n\u001b[0;32m      5\u001b[0m \u001b[1;31m# read train data\u001b[0m\u001b[1;33m\u001b[0m\u001b[1;33m\u001b[0m\u001b[1;33m\u001b[0m\u001b[0m\n\u001b[1;32m----> 6\u001b[1;33m \u001b[0mtrain_input\u001b[0m \u001b[1;33m=\u001b[0m \u001b[0mnp\u001b[0m\u001b[1;33m.\u001b[0m\u001b[0mgenfromtxt\u001b[0m\u001b[1;33m(\u001b[0m\u001b[1;34m'train_new.csv'\u001b[0m\u001b[1;33m,\u001b[0m \u001b[0mdelimiter\u001b[0m\u001b[1;33m=\u001b[0m\u001b[1;34m','\u001b[0m\u001b[1;33m)\u001b[0m\u001b[1;33m\u001b[0m\u001b[1;33m\u001b[0m\u001b[0m\n\u001b[0m\u001b[0;32m      7\u001b[0m \u001b[0mtrainX_\u001b[0m\u001b[1;33m,\u001b[0m \u001b[0mtrain_Y\u001b[0m \u001b[1;33m=\u001b[0m \u001b[0mtrain_input\u001b[0m\u001b[1;33m[\u001b[0m\u001b[1;36m1\u001b[0m\u001b[1;33m:\u001b[0m\u001b[1;33m,\u001b[0m \u001b[1;33m:\u001b[0m\u001b[1;36m19\u001b[0m\u001b[1;33m]\u001b[0m\u001b[1;33m,\u001b[0m \u001b[0mtrain_input\u001b[0m\u001b[1;33m[\u001b[0m\u001b[1;36m1\u001b[0m\u001b[1;33m:\u001b[0m\u001b[1;33m,\u001b[0m \u001b[1;33m-\u001b[0m\u001b[1;36m1\u001b[0m\u001b[1;33m]\u001b[0m\u001b[1;33m\u001b[0m\u001b[1;33m\u001b[0m\u001b[0m\n\u001b[0;32m      8\u001b[0m \u001b[1;33m\u001b[0m\u001b[0m\n",
      "\u001b[1;32m~\\Anaconda3\\lib\\site-packages\\numpy\\lib\\npyio.py\u001b[0m in \u001b[0;36mgenfromtxt\u001b[1;34m(fname, dtype, comments, delimiter, skip_header, skip_footer, converters, missing_values, filling_values, usecols, names, excludelist, deletechars, replace_space, autostrip, case_sensitive, defaultfmt, unpack, usemask, loose, invalid_raise, max_rows, encoding)\u001b[0m\n\u001b[0;32m   1742\u001b[0m             \u001b[0mfname\u001b[0m \u001b[1;33m=\u001b[0m \u001b[0mos_fspath\u001b[0m\u001b[1;33m(\u001b[0m\u001b[0mfname\u001b[0m\u001b[1;33m)\u001b[0m\u001b[1;33m\u001b[0m\u001b[1;33m\u001b[0m\u001b[0m\n\u001b[0;32m   1743\u001b[0m         \u001b[1;32mif\u001b[0m \u001b[0misinstance\u001b[0m\u001b[1;33m(\u001b[0m\u001b[0mfname\u001b[0m\u001b[1;33m,\u001b[0m \u001b[0mbasestring\u001b[0m\u001b[1;33m)\u001b[0m\u001b[1;33m:\u001b[0m\u001b[1;33m\u001b[0m\u001b[1;33m\u001b[0m\u001b[0m\n\u001b[1;32m-> 1744\u001b[1;33m             \u001b[0mfhd\u001b[0m \u001b[1;33m=\u001b[0m \u001b[0miter\u001b[0m\u001b[1;33m(\u001b[0m\u001b[0mnp\u001b[0m\u001b[1;33m.\u001b[0m\u001b[0mlib\u001b[0m\u001b[1;33m.\u001b[0m\u001b[0m_datasource\u001b[0m\u001b[1;33m.\u001b[0m\u001b[0mopen\u001b[0m\u001b[1;33m(\u001b[0m\u001b[0mfname\u001b[0m\u001b[1;33m,\u001b[0m \u001b[1;34m'rt'\u001b[0m\u001b[1;33m,\u001b[0m \u001b[0mencoding\u001b[0m\u001b[1;33m=\u001b[0m\u001b[0mencoding\u001b[0m\u001b[1;33m)\u001b[0m\u001b[1;33m)\u001b[0m\u001b[1;33m\u001b[0m\u001b[1;33m\u001b[0m\u001b[0m\n\u001b[0m\u001b[0;32m   1745\u001b[0m             \u001b[0mown_fhd\u001b[0m \u001b[1;33m=\u001b[0m \u001b[1;32mTrue\u001b[0m\u001b[1;33m\u001b[0m\u001b[1;33m\u001b[0m\u001b[0m\n\u001b[0;32m   1746\u001b[0m         \u001b[1;32melse\u001b[0m\u001b[1;33m:\u001b[0m\u001b[1;33m\u001b[0m\u001b[1;33m\u001b[0m\u001b[0m\n",
      "\u001b[1;32m~\\Anaconda3\\lib\\site-packages\\numpy\\lib\\_datasource.py\u001b[0m in \u001b[0;36mopen\u001b[1;34m(path, mode, destpath, encoding, newline)\u001b[0m\n\u001b[0;32m    264\u001b[0m \u001b[1;33m\u001b[0m\u001b[0m\n\u001b[0;32m    265\u001b[0m     \u001b[0mds\u001b[0m \u001b[1;33m=\u001b[0m \u001b[0mDataSource\u001b[0m\u001b[1;33m(\u001b[0m\u001b[0mdestpath\u001b[0m\u001b[1;33m)\u001b[0m\u001b[1;33m\u001b[0m\u001b[1;33m\u001b[0m\u001b[0m\n\u001b[1;32m--> 266\u001b[1;33m     \u001b[1;32mreturn\u001b[0m \u001b[0mds\u001b[0m\u001b[1;33m.\u001b[0m\u001b[0mopen\u001b[0m\u001b[1;33m(\u001b[0m\u001b[0mpath\u001b[0m\u001b[1;33m,\u001b[0m \u001b[0mmode\u001b[0m\u001b[1;33m,\u001b[0m \u001b[0mencoding\u001b[0m\u001b[1;33m=\u001b[0m\u001b[0mencoding\u001b[0m\u001b[1;33m,\u001b[0m \u001b[0mnewline\u001b[0m\u001b[1;33m=\u001b[0m\u001b[0mnewline\u001b[0m\u001b[1;33m)\u001b[0m\u001b[1;33m\u001b[0m\u001b[1;33m\u001b[0m\u001b[0m\n\u001b[0m\u001b[0;32m    267\u001b[0m \u001b[1;33m\u001b[0m\u001b[0m\n\u001b[0;32m    268\u001b[0m \u001b[1;33m\u001b[0m\u001b[0m\n",
      "\u001b[1;32m~\\Anaconda3\\lib\\site-packages\\numpy\\lib\\_datasource.py\u001b[0m in \u001b[0;36mopen\u001b[1;34m(self, path, mode, encoding, newline)\u001b[0m\n\u001b[0;32m    622\u001b[0m                                       encoding=encoding, newline=newline)\n\u001b[0;32m    623\u001b[0m         \u001b[1;32melse\u001b[0m\u001b[1;33m:\u001b[0m\u001b[1;33m\u001b[0m\u001b[1;33m\u001b[0m\u001b[0m\n\u001b[1;32m--> 624\u001b[1;33m             \u001b[1;32mraise\u001b[0m \u001b[0mIOError\u001b[0m\u001b[1;33m(\u001b[0m\u001b[1;34m\"%s not found.\"\u001b[0m \u001b[1;33m%\u001b[0m \u001b[0mpath\u001b[0m\u001b[1;33m)\u001b[0m\u001b[1;33m\u001b[0m\u001b[1;33m\u001b[0m\u001b[0m\n\u001b[0m\u001b[0;32m    625\u001b[0m \u001b[1;33m\u001b[0m\u001b[0m\n\u001b[0;32m    626\u001b[0m \u001b[1;33m\u001b[0m\u001b[0m\n",
      "\u001b[1;31mOSError\u001b[0m: train_new.csv not found."
     ]
    }
   ],
   "source": [
    "import pandas as pd\n",
    "import numpy as np\n",
    "import impyute.imputation.cs.em as em\n",
    "\n",
    "# read train data\n",
    "train_input = np.genfromtxt('train_new.csv', delimiter=',')\n",
    "trainX_, train_Y = train_input[1:, :19], train_input[1:, -1]\n",
    "\n",
    "# Take out attribute columns career_c columns\n",
    "attr_col, career = trainX_[:, :18], trainX_[:, -1]\n",
    "# handle missing values in attributes feature and career\n",
    "#trainX = em(trainX_, loops=50)"
   ]
  },
  {
   "cell_type": "code",
   "execution_count": null,
   "metadata": {},
   "outputs": [],
   "source": [
    "attr_col"
   ]
  },
  {
   "cell_type": "code",
   "execution_count": null,
   "metadata": {},
   "outputs": [],
   "source": [
    "career"
   ]
  },
  {
   "cell_type": "code",
   "execution_count": null,
   "metadata": {},
   "outputs": [],
   "source": [
    "attr_col = np.nan_to_num(attr_col)"
   ]
  },
  {
   "cell_type": "code",
   "execution_count": null,
   "metadata": {},
   "outputs": [],
   "source": [
    "attr_col"
   ]
  },
  {
   "cell_type": "code",
   "execution_count": null,
   "metadata": {},
   "outputs": [],
   "source": [
    "half_clean = np.column_stack((attr_col, career))"
   ]
  },
  {
   "cell_type": "code",
   "execution_count": null,
   "metadata": {},
   "outputs": [],
   "source": [
    "full_clean = np.nan_to_num(half_clean, -1.0)"
   ]
  },
  {
   "cell_type": "code",
   "execution_count": null,
   "metadata": {},
   "outputs": [],
   "source": [
    "full_clean"
   ]
  },
  {
   "cell_type": "code",
   "execution_count": null,
   "metadata": {},
   "outputs": [],
   "source": [
    "clean_df = np.column_stack((full_clean, train_Y))"
   ]
  },
  {
   "cell_type": "code",
   "execution_count": null,
   "metadata": {},
   "outputs": [],
   "source": [
    "clean_df"
   ]
  },
  {
   "cell_type": "code",
   "execution_count": null,
   "metadata": {},
   "outputs": [],
   "source": [
    "a = np.asarray(clean_df)\n",
    "np.savetxt(\"clean_df(non_impute).csv\", a, delimiter=\",\")"
   ]
  },
  {
   "cell_type": "code",
   "execution_count": null,
   "metadata": {},
   "outputs": [],
   "source": [
    "full_clean2 = em(half_clean, loops=50)"
   ]
  },
  {
   "cell_type": "code",
   "execution_count": null,
   "metadata": {},
   "outputs": [],
   "source": [
    "full_clean2"
   ]
  },
  {
   "cell_type": "code",
   "execution_count": null,
   "metadata": {},
   "outputs": [],
   "source": [
    "clean_df2 = np.column_stack((full_clean2, train_Y))"
   ]
  },
  {
   "cell_type": "code",
   "execution_count": null,
   "metadata": {},
   "outputs": [],
   "source": [
    "clean_df2"
   ]
  },
  {
   "cell_type": "code",
   "execution_count": null,
   "metadata": {},
   "outputs": [],
   "source": [
    "a = np.asarray(clean_df2)\n",
    "np.savetxt(\"clean_df(impute).csv\", a, delimiter=\",\")"
   ]
  },
  {
   "cell_type": "code",
   "execution_count": null,
   "metadata": {},
   "outputs": [],
   "source": [
    "df = pd.read_csv('clean_df(impute).csv')"
   ]
  },
  {
   "cell_type": "code",
   "execution_count": null,
   "metadata": {},
   "outputs": [],
   "source": [
    "df.corr()"
   ]
  },
  {
   "cell_type": "code",
   "execution_count": null,
   "metadata": {},
   "outputs": [],
   "source": [
    "df2 = pd.read_csv('train_new.csv')"
   ]
  },
  {
   "cell_type": "code",
   "execution_count": null,
   "metadata": {},
   "outputs": [],
   "source": [
    "df2.corr()"
   ]
  },
  {
   "cell_type": "code",
   "execution_count": null,
   "metadata": {},
   "outputs": [],
   "source": [
    "import seaborn as sns\n",
    "ax = sns.heatmap(df2.corr(method='pearson'), vmin= -0.1, vmax = 1)\n"
   ]
  },
  {
   "cell_type": "code",
   "execution_count": null,
   "metadata": {},
   "outputs": [],
   "source": [
    "train_input = np.genfromtxt('male(non_impute).csv', delimiter=',')\n",
    "trainX, train_Y = train_input[1:, 1:19], train_input[1:, -1].astype(int)\n",
    "\n",
    "# handle missing values in trainX and then scale it\n",
    "#     trainX = em(trainX_, loops=50)\n",
    "trainX = scale(trainX, np.min(trainX, axis=0), np.max(trainX, axis=0))\n",
    "\n",
    "trainY = np.zeros((train_Y.shape[0], NUM_CLASSES))\n",
    "trainY[np.arange(train_Y.shape[0]), train_Y - 1] = 1  # one hot matrix\n",
    "trainX, testX, trainY, testY = train_test_split(trainX, trainY, test_size=0.3, shuffle=True)"
   ]
  },
  {
   "cell_type": "code",
   "execution_count": null,
   "metadata": {},
   "outputs": [],
   "source": [
    "import pandas as pd\n",
    "df = pd.read_csv('male(non_impute).csv')"
   ]
  },
  {
   "cell_type": "code",
   "execution_count": null,
   "metadata": {},
   "outputs": [],
   "source": [
    "df.iloc[1:, 1:19]"
   ]
  },
  {
   "cell_type": "code",
   "execution_count": null,
   "metadata": {},
   "outputs": [],
   "source": [
    "df = pd.read_csv('')"
   ]
  }
 ],
 "metadata": {
  "kernelspec": {
   "display_name": "Python 3",
   "language": "python",
   "name": "python3"
  },
  "language_info": {
   "codemirror_mode": {
    "name": "ipython",
    "version": 3
   },
   "file_extension": ".py",
   "mimetype": "text/x-python",
   "name": "python",
   "nbconvert_exporter": "python",
   "pygments_lexer": "ipython3",
   "version": "3.7.4"
  }
 },
 "nbformat": 4,
 "nbformat_minor": 4
}
